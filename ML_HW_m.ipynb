{
 "cells": [
  {
   "cell_type": "markdown",
   "id": "56f1f60e",
   "metadata": {},
   "source": [
    " #  Установка пакетов: pandas, seaborn, sklearn\n",
    "✅**Pandas**: дает возможность строить сводные таблицы, выполнять группировки, предоставляет удобный доступ к табличным данным и при наличии  matplotlib дает возможность рисовать графики на полученных наборах данных.\n",
    "\n",
    "✅**Seaborn**: библиотека для создания статистических графиков на Python. Основывается на matplotlib и  взаимодействует со структурами данных pandas\n",
    "\n",
    "✅**Sklearn**: лгоритмы классификации, регрессии и кластеризации и позволяет взаимодействовать с другими библиотеками численного моделирования - Pandas, NumPy, Scipy."
   ]
  },
  {
   "cell_type": "code",
   "execution_count": 1,
   "id": "e16db67c",
   "metadata": {},
   "outputs": [
    {
     "name": "stdout",
     "output_type": "stream",
     "text": [
      "Requirement already satisfied: pandas in c:\\users\\dmitriy\\appdata\\local\\programs\\python\\python311\\lib\\site-packages (2.1.1)\n",
      "Requirement already satisfied: numpy>=1.23.2 in c:\\users\\dmitriy\\appdata\\local\\programs\\python\\python311\\lib\\site-packages (from pandas) (1.26.0)\n",
      "Requirement already satisfied: python-dateutil>=2.8.2 in c:\\users\\dmitriy\\appdata\\local\\programs\\python\\python311\\lib\\site-packages (from pandas) (2.8.2)\n",
      "Requirement already satisfied: pytz>=2020.1 in c:\\users\\dmitriy\\appdata\\local\\programs\\python\\python311\\lib\\site-packages (from pandas) (2023.3.post1)\n",
      "Requirement already satisfied: tzdata>=2022.1 in c:\\users\\dmitriy\\appdata\\local\\programs\\python\\python311\\lib\\site-packages (from pandas) (2023.3)\n",
      "Requirement already satisfied: six>=1.5 in c:\\users\\dmitriy\\appdata\\local\\programs\\python\\python311\\lib\\site-packages (from python-dateutil>=2.8.2->pandas) (1.16.0)\n"
     ]
    },
    {
     "name": "stderr",
     "output_type": "stream",
     "text": [
      "\n",
      "[notice] A new release of pip is available: 23.1.2 -> 23.2.1\n",
      "[notice] To update, run: python.exe -m pip install --upgrade pip\n"
     ]
    },
    {
     "name": "stdout",
     "output_type": "stream",
     "text": [
      "Requirement already satisfied: seaborn in c:\\users\\dmitriy\\appdata\\local\\programs\\python\\python311\\lib\\site-packages (0.13.0)\n",
      "Requirement already satisfied: numpy!=1.24.0,>=1.20 in c:\\users\\dmitriy\\appdata\\local\\programs\\python\\python311\\lib\\site-packages (from seaborn) (1.26.0)\n",
      "Requirement already satisfied: pandas>=1.2 in c:\\users\\dmitriy\\appdata\\local\\programs\\python\\python311\\lib\\site-packages (from seaborn) (2.1.1)\n",
      "Requirement already satisfied: matplotlib!=3.6.1,>=3.3 in c:\\users\\dmitriy\\appdata\\local\\programs\\python\\python311\\lib\\site-packages (from seaborn) (3.8.0)\n",
      "Requirement already satisfied: contourpy>=1.0.1 in c:\\users\\dmitriy\\appdata\\local\\programs\\python\\python311\\lib\\site-packages (from matplotlib!=3.6.1,>=3.3->seaborn) (1.1.1)\n",
      "Requirement already satisfied: cycler>=0.10 in c:\\users\\dmitriy\\appdata\\local\\programs\\python\\python311\\lib\\site-packages (from matplotlib!=3.6.1,>=3.3->seaborn) (0.12.0)\n",
      "Requirement already satisfied: fonttools>=4.22.0 in c:\\users\\dmitriy\\appdata\\local\\programs\\python\\python311\\lib\\site-packages (from matplotlib!=3.6.1,>=3.3->seaborn) (4.43.0)\n",
      "Requirement already satisfied: kiwisolver>=1.0.1 in c:\\users\\dmitriy\\appdata\\local\\programs\\python\\python311\\lib\\site-packages (from matplotlib!=3.6.1,>=3.3->seaborn) (1.4.5)\n",
      "Requirement already satisfied: packaging>=20.0 in c:\\users\\dmitriy\\appdata\\local\\programs\\python\\python311\\lib\\site-packages (from matplotlib!=3.6.1,>=3.3->seaborn) (23.1)\n",
      "Requirement already satisfied: pillow>=6.2.0 in c:\\users\\dmitriy\\appdata\\local\\programs\\python\\python311\\lib\\site-packages (from matplotlib!=3.6.1,>=3.3->seaborn) (10.0.1)\n",
      "Requirement already satisfied: pyparsing>=2.3.1 in c:\\users\\dmitriy\\appdata\\local\\programs\\python\\python311\\lib\\site-packages (from matplotlib!=3.6.1,>=3.3->seaborn) (3.1.1)\n",
      "Requirement already satisfied: python-dateutil>=2.7 in c:\\users\\dmitriy\\appdata\\local\\programs\\python\\python311\\lib\\site-packages (from matplotlib!=3.6.1,>=3.3->seaborn) (2.8.2)\n",
      "Requirement already satisfied: pytz>=2020.1 in c:\\users\\dmitriy\\appdata\\local\\programs\\python\\python311\\lib\\site-packages (from pandas>=1.2->seaborn) (2023.3.post1)\n",
      "Requirement already satisfied: tzdata>=2022.1 in c:\\users\\dmitriy\\appdata\\local\\programs\\python\\python311\\lib\\site-packages (from pandas>=1.2->seaborn) (2023.3)\n",
      "Requirement already satisfied: six>=1.5 in c:\\users\\dmitriy\\appdata\\local\\programs\\python\\python311\\lib\\site-packages (from python-dateutil>=2.7->matplotlib!=3.6.1,>=3.3->seaborn) (1.16.0)\n"
     ]
    },
    {
     "name": "stderr",
     "output_type": "stream",
     "text": [
      "\n",
      "[notice] A new release of pip is available: 23.1.2 -> 23.2.1\n",
      "[notice] To update, run: python.exe -m pip install --upgrade pip\n"
     ]
    },
    {
     "name": "stdout",
     "output_type": "stream",
     "text": [
      "Collecting sklearn\n",
      "  Using cached sklearn-0.0.post9.tar.gz (3.6 kB)\n",
      "  Installing build dependencies: started\n",
      "  Installing build dependencies: finished with status 'done'\n",
      "  Getting requirements to build wheel: started\n",
      "  Getting requirements to build wheel: finished with status 'done'\n",
      "  Preparing metadata (pyproject.toml): started\n",
      "  Preparing metadata (pyproject.toml): finished with status 'done'\n",
      "Building wheels for collected packages: sklearn\n",
      "  Building wheel for sklearn (pyproject.toml): started\n",
      "  Building wheel for sklearn (pyproject.toml): finished with status 'done'\n",
      "  Created wheel for sklearn: filename=sklearn-0.0.post9-py3-none-any.whl size=2969 sha256=b815b094ddddee77de9c69dc5991958c0a60dd6df40828b27bec0fd7b65dc4b1\n",
      "  Stored in directory: c:\\users\\dmitriy\\appdata\\local\\pip\\cache\\wheels\\ef\\63\\d1\\f1671e1e93b7ef4d35df483f9b2485e6dd21941da9a92296fb\n",
      "Successfully built sklearn\n",
      "Installing collected packages: sklearn\n",
      "Successfully installed sklearn-0.0.post9\n"
     ]
    },
    {
     "name": "stderr",
     "output_type": "stream",
     "text": [
      "\n",
      "[notice] A new release of pip is available: 23.1.2 -> 23.2.1\n",
      "[notice] To update, run: python.exe -m pip install --upgrade pip\n"
     ]
    }
   ],
   "source": [
    "!pip install pandas\n",
    "!pip install seaborn\n",
    "!pip install sklearn"
   ]
  },
  {
   "cell_type": "markdown",
   "id": "13ee7ce9",
   "metadata": {},
   "source": [
    "# Подключение пакетов: \n",
    "✅**Numpy** - Одномерные и многомерные массивы (array) (матрицы, векторы\n",
    "\n",
    "✅**Pandas** - таблицы и временные ряды (dataframe, series)\n",
    "\n",
    "✅**Matplotlib.pyplot** - научная графика\n",
    "\n",
    "✅**Seaborn** - больше красивой графики для визуализации данных"
   ]
  },
  {
   "cell_type": "code",
   "execution_count": 2,
   "id": "714266b2",
   "metadata": {},
   "outputs": [],
   "source": [
    "import numpy as np             \n",
    "import pandas as pd         \n",
    "import matplotlib.pyplot as plt \n",
    "import seaborn as sns"
   ]
  },
  {
   "cell_type": "markdown",
   "id": "5656e87a",
   "metadata": {},
   "source": [
    "# ❗❗❗ Д/з к 12.10.2023 ❗❗❗"
   ]
  },
  {
   "cell_type": "markdown",
   "id": "bd433710",
   "metadata": {},
   "source": [
    "# 0) Описание задачи:\n",
    "🍏Задан набор данных переписи и поставленая задача классификации прогнозов заработной платы \n",
    "Будем использовать имеющиеся данные, чтобы предсказать: заработная плата человека <50тыс. или больше.\n",
    "\n",
    "🍏Ссылка на датасет: https://www.kaggle.com/datasets/ayessa/salary-prediction-classification\n",
    "\n",
    "🍏Задача классификации: 2 класса (прогноизруемая заработная плата <50тыс. или >50тыс."
   ]
  },
  {
   "cell_type": "markdown",
   "id": "1bd5f2ba",
   "metadata": {},
   "source": [
    "# 1) Считывание данных:"
   ]
  },
  {
   "cell_type": "markdown",
   "id": "95a80096",
   "metadata": {},
   "source": [
    "### 1.0) Считаем данные из файла \"salary.csv\": (pd.read_csv) "
   ]
  },
  {
   "cell_type": "code",
   "execution_count": 3,
   "id": "e94ff0a2",
   "metadata": {},
   "outputs": [],
   "source": [
    "data_row = pd.read_csv('salary.csv', delimiter=\",\", skiprows=[])"
   ]
  },
  {
   "cell_type": "markdown",
   "id": "76587915",
   "metadata": {},
   "source": [
    "### 1.1. Выведем начало и конец таблицы на экран для наглядности.\n",
    "\n",
    "data_row: показать 5 первых и последних строк  \n",
    "data_row.shape: количество строк и столбцов"
   ]
  },
  {
   "cell_type": "code",
   "execution_count": 4,
   "id": "48ea4cce",
   "metadata": {},
   "outputs": [
    {
     "data": {
      "text/html": [
       "<div>\n",
       "<style scoped>\n",
       "    .dataframe tbody tr th:only-of-type {\n",
       "        vertical-align: middle;\n",
       "    }\n",
       "\n",
       "    .dataframe tbody tr th {\n",
       "        vertical-align: top;\n",
       "    }\n",
       "\n",
       "    .dataframe thead th {\n",
       "        text-align: right;\n",
       "    }\n",
       "</style>\n",
       "<table border=\"1\" class=\"dataframe\">\n",
       "  <thead>\n",
       "    <tr style=\"text-align: right;\">\n",
       "      <th></th>\n",
       "      <th>age</th>\n",
       "      <th>workclass</th>\n",
       "      <th>fnlwgt</th>\n",
       "      <th>education</th>\n",
       "      <th>education-num</th>\n",
       "      <th>marital-status</th>\n",
       "      <th>occupation</th>\n",
       "      <th>relationship</th>\n",
       "      <th>race</th>\n",
       "      <th>sex</th>\n",
       "      <th>capital-gain</th>\n",
       "      <th>capital-loss</th>\n",
       "      <th>hours-per-week</th>\n",
       "      <th>native-country</th>\n",
       "      <th>salary</th>\n",
       "    </tr>\n",
       "  </thead>\n",
       "  <tbody>\n",
       "    <tr>\n",
       "      <th>0</th>\n",
       "      <td>39</td>\n",
       "      <td>State-gov</td>\n",
       "      <td>77516</td>\n",
       "      <td>Bachelors</td>\n",
       "      <td>13</td>\n",
       "      <td>Never-married</td>\n",
       "      <td>Adm-clerical</td>\n",
       "      <td>Not-in-family</td>\n",
       "      <td>White</td>\n",
       "      <td>Male</td>\n",
       "      <td>2174</td>\n",
       "      <td>0</td>\n",
       "      <td>40</td>\n",
       "      <td>United-States</td>\n",
       "      <td>&lt;=50K</td>\n",
       "    </tr>\n",
       "    <tr>\n",
       "      <th>1</th>\n",
       "      <td>50</td>\n",
       "      <td>Self-emp-not-inc</td>\n",
       "      <td>83311</td>\n",
       "      <td>Bachelors</td>\n",
       "      <td>13</td>\n",
       "      <td>Married-civ-spouse</td>\n",
       "      <td>Exec-managerial</td>\n",
       "      <td>Husband</td>\n",
       "      <td>White</td>\n",
       "      <td>Male</td>\n",
       "      <td>0</td>\n",
       "      <td>0</td>\n",
       "      <td>13</td>\n",
       "      <td>United-States</td>\n",
       "      <td>&lt;=50K</td>\n",
       "    </tr>\n",
       "    <tr>\n",
       "      <th>2</th>\n",
       "      <td>38</td>\n",
       "      <td>Private</td>\n",
       "      <td>215646</td>\n",
       "      <td>HS-grad</td>\n",
       "      <td>9</td>\n",
       "      <td>Divorced</td>\n",
       "      <td>Handlers-cleaners</td>\n",
       "      <td>Not-in-family</td>\n",
       "      <td>White</td>\n",
       "      <td>Male</td>\n",
       "      <td>0</td>\n",
       "      <td>0</td>\n",
       "      <td>40</td>\n",
       "      <td>United-States</td>\n",
       "      <td>&lt;=50K</td>\n",
       "    </tr>\n",
       "    <tr>\n",
       "      <th>3</th>\n",
       "      <td>53</td>\n",
       "      <td>Private</td>\n",
       "      <td>234721</td>\n",
       "      <td>11th</td>\n",
       "      <td>7</td>\n",
       "      <td>Married-civ-spouse</td>\n",
       "      <td>Handlers-cleaners</td>\n",
       "      <td>Husband</td>\n",
       "      <td>Black</td>\n",
       "      <td>Male</td>\n",
       "      <td>0</td>\n",
       "      <td>0</td>\n",
       "      <td>40</td>\n",
       "      <td>United-States</td>\n",
       "      <td>&lt;=50K</td>\n",
       "    </tr>\n",
       "    <tr>\n",
       "      <th>4</th>\n",
       "      <td>28</td>\n",
       "      <td>Private</td>\n",
       "      <td>338409</td>\n",
       "      <td>Bachelors</td>\n",
       "      <td>13</td>\n",
       "      <td>Married-civ-spouse</td>\n",
       "      <td>Prof-specialty</td>\n",
       "      <td>Wife</td>\n",
       "      <td>Black</td>\n",
       "      <td>Female</td>\n",
       "      <td>0</td>\n",
       "      <td>0</td>\n",
       "      <td>40</td>\n",
       "      <td>Cuba</td>\n",
       "      <td>&lt;=50K</td>\n",
       "    </tr>\n",
       "    <tr>\n",
       "      <th>...</th>\n",
       "      <td>...</td>\n",
       "      <td>...</td>\n",
       "      <td>...</td>\n",
       "      <td>...</td>\n",
       "      <td>...</td>\n",
       "      <td>...</td>\n",
       "      <td>...</td>\n",
       "      <td>...</td>\n",
       "      <td>...</td>\n",
       "      <td>...</td>\n",
       "      <td>...</td>\n",
       "      <td>...</td>\n",
       "      <td>...</td>\n",
       "      <td>...</td>\n",
       "      <td>...</td>\n",
       "    </tr>\n",
       "    <tr>\n",
       "      <th>32556</th>\n",
       "      <td>27</td>\n",
       "      <td>Private</td>\n",
       "      <td>257302</td>\n",
       "      <td>Assoc-acdm</td>\n",
       "      <td>12</td>\n",
       "      <td>Married-civ-spouse</td>\n",
       "      <td>Tech-support</td>\n",
       "      <td>Wife</td>\n",
       "      <td>White</td>\n",
       "      <td>Female</td>\n",
       "      <td>0</td>\n",
       "      <td>0</td>\n",
       "      <td>38</td>\n",
       "      <td>United-States</td>\n",
       "      <td>&lt;=50K</td>\n",
       "    </tr>\n",
       "    <tr>\n",
       "      <th>32557</th>\n",
       "      <td>40</td>\n",
       "      <td>Private</td>\n",
       "      <td>154374</td>\n",
       "      <td>HS-grad</td>\n",
       "      <td>9</td>\n",
       "      <td>Married-civ-spouse</td>\n",
       "      <td>Machine-op-inspct</td>\n",
       "      <td>Husband</td>\n",
       "      <td>White</td>\n",
       "      <td>Male</td>\n",
       "      <td>0</td>\n",
       "      <td>0</td>\n",
       "      <td>40</td>\n",
       "      <td>United-States</td>\n",
       "      <td>&gt;50K</td>\n",
       "    </tr>\n",
       "    <tr>\n",
       "      <th>32558</th>\n",
       "      <td>58</td>\n",
       "      <td>Private</td>\n",
       "      <td>151910</td>\n",
       "      <td>HS-grad</td>\n",
       "      <td>9</td>\n",
       "      <td>Widowed</td>\n",
       "      <td>Adm-clerical</td>\n",
       "      <td>Unmarried</td>\n",
       "      <td>White</td>\n",
       "      <td>Female</td>\n",
       "      <td>0</td>\n",
       "      <td>0</td>\n",
       "      <td>40</td>\n",
       "      <td>United-States</td>\n",
       "      <td>&lt;=50K</td>\n",
       "    </tr>\n",
       "    <tr>\n",
       "      <th>32559</th>\n",
       "      <td>22</td>\n",
       "      <td>Private</td>\n",
       "      <td>201490</td>\n",
       "      <td>HS-grad</td>\n",
       "      <td>9</td>\n",
       "      <td>Never-married</td>\n",
       "      <td>Adm-clerical</td>\n",
       "      <td>Own-child</td>\n",
       "      <td>White</td>\n",
       "      <td>Male</td>\n",
       "      <td>0</td>\n",
       "      <td>0</td>\n",
       "      <td>20</td>\n",
       "      <td>United-States</td>\n",
       "      <td>&lt;=50K</td>\n",
       "    </tr>\n",
       "    <tr>\n",
       "      <th>32560</th>\n",
       "      <td>52</td>\n",
       "      <td>Self-emp-inc</td>\n",
       "      <td>287927</td>\n",
       "      <td>HS-grad</td>\n",
       "      <td>9</td>\n",
       "      <td>Married-civ-spouse</td>\n",
       "      <td>Exec-managerial</td>\n",
       "      <td>Wife</td>\n",
       "      <td>White</td>\n",
       "      <td>Female</td>\n",
       "      <td>15024</td>\n",
       "      <td>0</td>\n",
       "      <td>40</td>\n",
       "      <td>United-States</td>\n",
       "      <td>&gt;50K</td>\n",
       "    </tr>\n",
       "  </tbody>\n",
       "</table>\n",
       "<p>32561 rows × 15 columns</p>\n",
       "</div>"
      ],
      "text/plain": [
       "       age          workclass  fnlwgt    education  education-num  \\\n",
       "0       39          State-gov   77516    Bachelors             13   \n",
       "1       50   Self-emp-not-inc   83311    Bachelors             13   \n",
       "2       38            Private  215646      HS-grad              9   \n",
       "3       53            Private  234721         11th              7   \n",
       "4       28            Private  338409    Bachelors             13   \n",
       "...    ...                ...     ...          ...            ...   \n",
       "32556   27            Private  257302   Assoc-acdm             12   \n",
       "32557   40            Private  154374      HS-grad              9   \n",
       "32558   58            Private  151910      HS-grad              9   \n",
       "32559   22            Private  201490      HS-grad              9   \n",
       "32560   52       Self-emp-inc  287927      HS-grad              9   \n",
       "\n",
       "            marital-status          occupation    relationship    race  \\\n",
       "0            Never-married        Adm-clerical   Not-in-family   White   \n",
       "1       Married-civ-spouse     Exec-managerial         Husband   White   \n",
       "2                 Divorced   Handlers-cleaners   Not-in-family   White   \n",
       "3       Married-civ-spouse   Handlers-cleaners         Husband   Black   \n",
       "4       Married-civ-spouse      Prof-specialty            Wife   Black   \n",
       "...                    ...                 ...             ...     ...   \n",
       "32556   Married-civ-spouse        Tech-support            Wife   White   \n",
       "32557   Married-civ-spouse   Machine-op-inspct         Husband   White   \n",
       "32558              Widowed        Adm-clerical       Unmarried   White   \n",
       "32559        Never-married        Adm-clerical       Own-child   White   \n",
       "32560   Married-civ-spouse     Exec-managerial            Wife   White   \n",
       "\n",
       "           sex  capital-gain  capital-loss  hours-per-week  native-country  \\\n",
       "0         Male          2174             0              40   United-States   \n",
       "1         Male             0             0              13   United-States   \n",
       "2         Male             0             0              40   United-States   \n",
       "3         Male             0             0              40   United-States   \n",
       "4       Female             0             0              40            Cuba   \n",
       "...        ...           ...           ...             ...             ...   \n",
       "32556   Female             0             0              38   United-States   \n",
       "32557     Male             0             0              40   United-States   \n",
       "32558   Female             0             0              40   United-States   \n",
       "32559     Male             0             0              20   United-States   \n",
       "32560   Female         15024             0              40   United-States   \n",
       "\n",
       "       salary  \n",
       "0       <=50K  \n",
       "1       <=50K  \n",
       "2       <=50K  \n",
       "3       <=50K  \n",
       "4       <=50K  \n",
       "...       ...  \n",
       "32556   <=50K  \n",
       "32557    >50K  \n",
       "32558   <=50K  \n",
       "32559   <=50K  \n",
       "32560    >50K  \n",
       "\n",
       "[32561 rows x 15 columns]"
      ]
     },
     "execution_count": 4,
     "metadata": {},
     "output_type": "execute_result"
    }
   ],
   "source": [
    "data_row"
   ]
  },
  {
   "cell_type": "code",
   "execution_count": 5,
   "id": "2de7bff1",
   "metadata": {},
   "outputs": [
    {
     "data": {
      "text/plain": [
       "(32561, 15)"
      ]
     },
     "execution_count": 5,
     "metadata": {},
     "output_type": "execute_result"
    }
   ],
   "source": [
    "data_row.shape"
   ]
  },
  {
   "cell_type": "markdown",
   "id": "ca458763",
   "metadata": {},
   "source": [
    "**Объектов**: 32561  \n",
    "**Признаки**:  15  \n",
    "\n",
    "1. age - возраст: от 17 до 90 лет\n",
    "2. kclass - рабочий класс: статус занятости\n",
    "3. wgt - оценка уникальности: \n",
    "4. education - образование: \n",
    "5. education-num - уровень образования\n",
    "6. ital-status - семейное положение\n",
    "7. occupation - сфера занятости:\n",
    "8. relationship - семейная роль: \n",
    "9. race - раса: \n",
    "10. sex - пол: \n",
    "11. capital-gain - прирост капитала: \n",
    "12. capital-loss - потеря капитала: \t\n",
    "13. hours-per-week - уровень занятости:\n",
    "14. native-country - страна рождения\n",
    "15. salary - зарплата: уровень заработной платы, &le; 50тыс или >50тыс"
   ]
  },
  {
   "cell_type": "markdown",
   "id": "d4cef4ac",
   "metadata": {},
   "source": [
    "### 1.2. Список признаков и их описания.\n",
    "\n",
    "data_row.dtypes: типы данных кажого признака "
   ]
  },
  {
   "cell_type": "code",
   "execution_count": 6,
   "id": "390aa7e8",
   "metadata": {},
   "outputs": [
    {
     "data": {
      "text/plain": [
       "age                int64\n",
       "workclass         object\n",
       "fnlwgt             int64\n",
       "education         object\n",
       "education-num      int64\n",
       "marital-status    object\n",
       "occupation        object\n",
       "relationship      object\n",
       "race              object\n",
       "sex               object\n",
       "capital-gain       int64\n",
       "capital-loss       int64\n",
       "hours-per-week     int64\n",
       "native-country    object\n",
       "salary            object\n",
       "dtype: object"
      ]
     },
     "execution_count": 6,
     "metadata": {},
     "output_type": "execute_result"
    }
   ],
   "source": [
    "data_row.dtypes"
   ]
  },
  {
   "cell_type": "markdown",
   "id": "a9a4a151",
   "metadata": {},
   "source": [
    "**Объектов:** 32561  \n",
    "**Признаков:** 15  \n",
    "**Типы данных:** 6 int64, 9 object  \n",
    "\n",
    "| Признаки (англ)| Признаки (рус)    | ед. измерения                             | тип данных|\n",
    "|:---------------|:------------------|:------------------------------------------|:----------|\n",
    "|age             |возраст            | л.                                        | int64     |\n",
    "|kclass          |рабочий класс      | -                                         | object    |\n",
    "|wgt             |оценка уникальности| -                                         | int64     |\n",
    "|education       |образование        | -                                         | object    |\n",
    "|education-num   |уровень образования| от 1 до 16 (от дошкольный до докторнатура)| int64     |\n",
    "|ital-status     |семейное положение | -                                         | object    |\n",
    "|occupation      |сфера занятости    | -                                         | object    |\n",
    "|relationship    |семейная роль      | -                                         | object    |\n",
    "|race            |раса               | -                                         | object    |\n",
    "|sex             |пол                | м/ж                                       | object    |\n",
    "|capital-gain    |прирост капиталя   | -                                         | int64     |\n",
    "|capital-loss    |потеря капитала    | -                                         | int64     |\n",
    "|hours-per-week  |уровень занятости  | ч.                                        | int64     |\n",
    "|native-country  |страна рождения    | -                                         | object    | \n",
    "|salary          |заработная плата   | -                                         | object    |\n",
    "\n",
    "\n"
   ]
  },
  {
   "cell_type": "markdown",
   "id": "caae2bdf",
   "metadata": {},
   "source": [
    "### 1.2.1 Числовые признаки"
   ]
  },
  {
   "cell_type": "markdown",
   "id": "578f8be8",
   "metadata": {},
   "source": [
    "### 1.2.2. Категориальные признаки"
   ]
  },
  {
   "cell_type": "markdown",
   "id": "f5bf4a6e",
   "metadata": {},
   "source": [
    "Выделим категориальные признаки"
   ]
  },
  {
   "cell_type": "code",
   "execution_count": 11,
   "id": "fd87bd3e",
   "metadata": {},
   "outputs": [
    {
     "data": {
      "text/plain": [
       "['workclass',\n",
       " 'education',\n",
       " 'marital-status',\n",
       " 'occupation',\n",
       " 'relationship',\n",
       " 'race',\n",
       " 'sex',\n",
       " 'native-country',\n",
       " 'salary']"
      ]
     },
     "execution_count": 11,
     "metadata": {},
     "output_type": "execute_result"
    }
   ],
   "source": [
    "category_parameters = [column for column in data_row.columns if data_row[column].dtype.name == 'object']\n",
    "category_parameters"
   ]
  },
  {
   "cell_type": "markdown",
   "id": "83b231f6",
   "metadata": {},
   "source": [
    "**Категориальных признаков:** 9   "
   ]
  },
  {
   "cell_type": "markdown",
   "id": "0dcc9e3c",
   "metadata": {},
   "source": [
    "Рассмотрим их распределения"
   ]
  },
  {
   "cell_type": "code",
   "execution_count": 14,
   "id": "4ad026f1",
   "metadata": {},
   "outputs": [
    {
     "data": {
      "text/plain": [
       "workclass\n",
       " Private             22696\n",
       " Self-emp-not-inc     2541\n",
       " Local-gov            2093\n",
       " ?                    1836\n",
       " State-gov            1298\n",
       " Self-emp-inc         1116\n",
       " Federal-gov           960\n",
       " Without-pay            14\n",
       " Never-worked            7\n",
       "Name: count, dtype: int64"
      ]
     },
     "execution_count": 14,
     "metadata": {},
     "output_type": "execute_result"
    }
   ],
   "source": [
    "data_row['workclass'].value_counts()"
   ]
  },
  {
   "cell_type": "markdown",
   "id": "0f8d6388",
   "metadata": {},
   "source": [
    "**Пропущенные значений среди workclass:** 1836  "
   ]
  },
  {
   "cell_type": "code",
   "execution_count": 19,
   "id": "ef6ca281",
   "metadata": {},
   "outputs": [
    {
     "data": {
      "text/plain": [
       "education\n",
       " HS-grad         10501\n",
       " Some-college     7291\n",
       " Bachelors        5355\n",
       " Masters          1723\n",
       " Assoc-voc        1382\n",
       " 11th             1175\n",
       " Assoc-acdm       1067\n",
       " 10th              933\n",
       " 7th-8th           646\n",
       " Prof-school       576\n",
       " 9th               514\n",
       " 12th              433\n",
       " Doctorate         413\n",
       " 5th-6th           333\n",
       " 1st-4th           168\n",
       " Preschool          51\n",
       "Name: count, dtype: int64"
      ]
     },
     "execution_count": 19,
     "metadata": {},
     "output_type": "execute_result"
    }
   ],
   "source": [
    "data_row['education'].value_counts()"
   ]
  },
  {
   "cell_type": "markdown",
   "id": "77b17061",
   "metadata": {},
   "source": [
    "**Пропущенные значений среди education:** 0  "
   ]
  },
  {
   "cell_type": "code",
   "execution_count": 20,
   "id": "a5c69a42",
   "metadata": {},
   "outputs": [
    {
     "data": {
      "text/plain": [
       "marital-status\n",
       " Married-civ-spouse       14976\n",
       " Never-married            10683\n",
       " Divorced                  4443\n",
       " Separated                 1025\n",
       " Widowed                    993\n",
       " Married-spouse-absent      418\n",
       " Married-AF-spouse           23\n",
       "Name: count, dtype: int64"
      ]
     },
     "execution_count": 20,
     "metadata": {},
     "output_type": "execute_result"
    }
   ],
   "source": [
    "data_row['marital-status'].value_counts()"
   ]
  },
  {
   "cell_type": "markdown",
   "id": "3718a37d",
   "metadata": {},
   "source": [
    "**Пропущенные значений среди marital-status:** 0  "
   ]
  },
  {
   "cell_type": "code",
   "execution_count": 21,
   "id": "b8c25bb3",
   "metadata": {},
   "outputs": [
    {
     "data": {
      "text/plain": [
       "occupation\n",
       " Prof-specialty       4140\n",
       " Craft-repair         4099\n",
       " Exec-managerial      4066\n",
       " Adm-clerical         3770\n",
       " Sales                3650\n",
       " Other-service        3295\n",
       " Machine-op-inspct    2002\n",
       " ?                    1843\n",
       " Transport-moving     1597\n",
       " Handlers-cleaners    1370\n",
       " Farming-fishing       994\n",
       " Tech-support          928\n",
       " Protective-serv       649\n",
       " Priv-house-serv       149\n",
       " Armed-Forces            9\n",
       "Name: count, dtype: int64"
      ]
     },
     "execution_count": 21,
     "metadata": {},
     "output_type": "execute_result"
    }
   ],
   "source": [
    "data_row['occupation'].value_counts()"
   ]
  },
  {
   "cell_type": "markdown",
   "id": "9bb368e1",
   "metadata": {},
   "source": [
    "**Пропущенные значений среди occupation:** 1843"
   ]
  },
  {
   "cell_type": "code",
   "execution_count": 22,
   "id": "6b376d5c",
   "metadata": {},
   "outputs": [
    {
     "data": {
      "text/plain": [
       "education\n",
       " HS-grad         10501\n",
       " Some-college     7291\n",
       " Bachelors        5355\n",
       " Masters          1723\n",
       " Assoc-voc        1382\n",
       " 11th             1175\n",
       " Assoc-acdm       1067\n",
       " 10th              933\n",
       " 7th-8th           646\n",
       " Prof-school       576\n",
       " 9th               514\n",
       " 12th              433\n",
       " Doctorate         413\n",
       " 5th-6th           333\n",
       " 1st-4th           168\n",
       " Preschool          51\n",
       "Name: count, dtype: int64"
      ]
     },
     "execution_count": 22,
     "metadata": {},
     "output_type": "execute_result"
    }
   ],
   "source": [
    "data_row['education'].value_counts()"
   ]
  },
  {
   "cell_type": "markdown",
   "id": "16a94a36",
   "metadata": {},
   "source": [
    "**Пропущенные значений среди education:** 0"
   ]
  },
  {
   "cell_type": "code",
   "execution_count": 23,
   "id": "391eff12",
   "metadata": {},
   "outputs": [
    {
     "data": {
      "text/plain": [
       "relationship\n",
       " Husband           13193\n",
       " Not-in-family      8305\n",
       " Own-child          5068\n",
       " Unmarried          3446\n",
       " Wife               1568\n",
       " Other-relative      981\n",
       "Name: count, dtype: int64"
      ]
     },
     "execution_count": 23,
     "metadata": {},
     "output_type": "execute_result"
    }
   ],
   "source": [
    "data_row['relationship'].value_counts()"
   ]
  },
  {
   "cell_type": "markdown",
   "id": "eb2efd6b",
   "metadata": {},
   "source": [
    "**Пропущенные значений среди relationship:** 0"
   ]
  },
  {
   "cell_type": "code",
   "execution_count": 24,
   "id": "cb10df41",
   "metadata": {},
   "outputs": [
    {
     "data": {
      "text/plain": [
       "race\n",
       " White                 27816\n",
       " Black                  3124\n",
       " Asian-Pac-Islander     1039\n",
       " Amer-Indian-Eskimo      311\n",
       " Other                   271\n",
       "Name: count, dtype: int64"
      ]
     },
     "execution_count": 24,
     "metadata": {},
     "output_type": "execute_result"
    }
   ],
   "source": [
    "data_row['race'].value_counts()"
   ]
  },
  {
   "cell_type": "markdown",
   "id": "32d52e30",
   "metadata": {},
   "source": [
    "**Пропущенные значений среди race:** 0"
   ]
  },
  {
   "cell_type": "code",
   "execution_count": 25,
   "id": "8e66aca0",
   "metadata": {},
   "outputs": [
    {
     "data": {
      "text/plain": [
       "sex\n",
       " Male      21790\n",
       " Female    10771\n",
       "Name: count, dtype: int64"
      ]
     },
     "execution_count": 25,
     "metadata": {},
     "output_type": "execute_result"
    }
   ],
   "source": [
    "data_row['sex'].value_counts()"
   ]
  },
  {
   "cell_type": "markdown",
   "id": "6130f554",
   "metadata": {},
   "source": [
    "**Пропущенные значений среди sex:** 0"
   ]
  },
  {
   "cell_type": "code",
   "execution_count": 26,
   "id": "948a142a",
   "metadata": {},
   "outputs": [
    {
     "data": {
      "text/plain": [
       "native-country\n",
       " United-States                 29170\n",
       " Mexico                          643\n",
       " ?                               583\n",
       " Philippines                     198\n",
       " Germany                         137\n",
       " Canada                          121\n",
       " Puerto-Rico                     114\n",
       " El-Salvador                     106\n",
       " India                           100\n",
       " Cuba                             95\n",
       " England                          90\n",
       " Jamaica                          81\n",
       " South                            80\n",
       " China                            75\n",
       " Italy                            73\n",
       " Dominican-Republic               70\n",
       " Vietnam                          67\n",
       " Guatemala                        64\n",
       " Japan                            62\n",
       " Poland                           60\n",
       " Columbia                         59\n",
       " Taiwan                           51\n",
       " Haiti                            44\n",
       " Iran                             43\n",
       " Portugal                         37\n",
       " Nicaragua                        34\n",
       " Peru                             31\n",
       " France                           29\n",
       " Greece                           29\n",
       " Ecuador                          28\n",
       " Ireland                          24\n",
       " Hong                             20\n",
       " Cambodia                         19\n",
       " Trinadad&Tobago                  19\n",
       " Laos                             18\n",
       " Thailand                         18\n",
       " Yugoslavia                       16\n",
       " Outlying-US(Guam-USVI-etc)       14\n",
       " Honduras                         13\n",
       " Hungary                          13\n",
       " Scotland                         12\n",
       " Holand-Netherlands                1\n",
       "Name: count, dtype: int64"
      ]
     },
     "execution_count": 26,
     "metadata": {},
     "output_type": "execute_result"
    }
   ],
   "source": [
    "data_row['native-country'].value_counts()"
   ]
  },
  {
   "cell_type": "markdown",
   "id": "5f7f15fa",
   "metadata": {},
   "source": [
    "**Пропущенные значений среди country:** 583"
   ]
  },
  {
   "cell_type": "code",
   "execution_count": 27,
   "id": "f57f0b1c",
   "metadata": {},
   "outputs": [
    {
     "data": {
      "text/plain": [
       "salary\n",
       " <=50K    24720\n",
       " >50K      7841\n",
       "Name: count, dtype: int64"
      ]
     },
     "execution_count": 27,
     "metadata": {},
     "output_type": "execute_result"
    }
   ],
   "source": [
    "data_row['salary'].value_counts()"
   ]
  },
  {
   "cell_type": "markdown",
   "id": "6c65e4c8",
   "metadata": {},
   "source": [
    "**Пропущенные значений среди salary:** 0"
   ]
  },
  {
   "cell_type": "markdown",
   "id": "f81abb73",
   "metadata": {},
   "source": [
    "**Итог:**    \n",
    "Пропущенные значения: 4262 ~ 13.09%   \n",
    "1. workclass: 1836\n",
    "2. occupation: 1843\n",
    "3. native-country: 583    \n",
    "\n",
    "**+ Узнали:** распределение каждого критерального признака среди возможных значений  "
   ]
  },
  {
   "cell_type": "markdown",
   "id": "a09f79c3",
   "metadata": {},
   "source": [
    "# 2) Пропущенные значения"
   ]
  },
  {
   "cell_type": "markdown",
   "id": "86b04168",
   "metadata": {},
   "source": [
    " Заменим пропущенные значения на NaN и подсчитаем их количество"
   ]
  },
  {
   "cell_type": "code",
   "execution_count": 32,
   "id": "ac0128fd",
   "metadata": {},
   "outputs": [
    {
     "data": {
      "text/plain": [
       "age                  0\n",
       "workclass         1836\n",
       "fnlwgt               0\n",
       "education            0\n",
       "education-num        0\n",
       "marital-status       0\n",
       "occupation        1843\n",
       "relationship         0\n",
       "race                 0\n",
       "sex                  0\n",
       "capital-gain         0\n",
       "capital-loss         0\n",
       "hours-per-week       0\n",
       "native-country     583\n",
       "salary               0\n",
       "dtype: int64"
      ]
     },
     "execution_count": 32,
     "metadata": {},
     "output_type": "execute_result"
    }
   ],
   "source": [
    "data_row['workclass'].replace(' ?', np.nan, inplace=True)\n",
    "data_row['occupation'].replace(' ?', np.nan, inplace=True)\n",
    "data_row['native-country'].replace(' ?', np.nan, inplace=True)\n",
    "\n",
    "data_row.isnull().sum()"
   ]
  },
  {
   "cell_type": "markdown",
   "id": "19250d72",
   "metadata": {},
   "source": [
    "**Пропущенные значения (для всех признаков):** 4262 ~ 13.09%     \n",
    "1. workclass: 1836\n",
    "2. occupation: 1843\n",
    "3. native-country: 583"
   ]
  },
  {
   "cell_type": "markdown",
   "id": "4a793b19",
   "metadata": {},
   "source": [
    "# 2) Сбалансированность"
   ]
  },
  {
   "cell_type": "code",
   "execution_count": 46,
   "id": "b82d647a",
   "metadata": {},
   "outputs": [
    {
     "name": "stderr",
     "output_type": "stream",
     "text": [
      "C:\\Users\\Dmitriy\\AppData\\Local\\Temp\\ipykernel_15668\\1127534269.py:4: FutureWarning: Series.__getitem__ treating keys as positions is deprecated. In a future version, integer keys will always be treated as labels (consistent with DataFrame behavior). To access a value by position, use `ser.iloc[pos]`\n",
      "  plt.pie([data_row['salary'].value_counts()[0], data_row['salary'].value_counts()[1]], labels=labels, colors=colors, autopct='%.0f%%')\n",
      "C:\\Users\\Dmitriy\\AppData\\Local\\Temp\\ipykernel_15668\\1127534269.py:4: FutureWarning: Series.__getitem__ treating keys as positions is deprecated. In a future version, integer keys will always be treated as labels (consistent with DataFrame behavior). To access a value by position, use `ser.iloc[pos]`\n",
      "  plt.pie([data_row['salary'].value_counts()[0], data_row['salary'].value_counts()[1]], labels=labels, colors=colors, autopct='%.0f%%')\n"
     ]
    },
    {
     "data": {
      "image/png": "[encoded data removed]",
      "text/plain": [
       "<Figure size 800x800 with 1 Axes>"
      ]
     },
     "metadata": {},
     "output_type": "display_data"
    }
   ],
   "source": [
    "plt.figure(figsize=(8, 8))\n",
    "colors = sns.color_palette()\n",
    "labels = ['<=50K', \">50K\"]\n",
    "plt.pie([data_row['salary'].value_counts()[0], data_row['salary'].value_counts()[1]], labels=labels, colors=colors, autopct='%.0f%%')\n",
    "plt.show()"
   ]
  },
  {
   "cell_type": "markdown",
   "id": "562515ef",
   "metadata": {},
   "source": [
    "**Сбалансированность классов (salary):** 76%/24% (&le; 50тыс, >50тыс)     "
   ]
  },
  {
   "cell_type": "code",
   "execution_count": null,
   "id": "544ddc3e",
   "metadata": {},
   "outputs": [],
   "source": []
  }
 ],
 "metadata": {
  "kernelspec": {
   "display_name": "Python 3 (ipykernel)",
   "language": "python",
   "name": "python3"
  },
  "language_info": {
   "codemirror_mode": {
    "name": "ipython",
    "version": 3
   },
   "file_extension": ".py",
   "mimetype": "text/x-python",
   "name": "python",
   "nbconvert_exporter": "python",
   "pygments_lexer": "ipython3",
   "version": "3.11.4"
  }
 },
 "nbformat": 4,
 "nbformat_minor": 5
}
